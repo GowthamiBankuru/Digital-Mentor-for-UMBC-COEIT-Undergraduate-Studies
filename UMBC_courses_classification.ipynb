{
 "cells": [
  {
   "cell_type": "code",
   "execution_count": 1,
   "id": "fe78f995-b543-425e-b755-2d502459ffc6",
   "metadata": {},
   "outputs": [],
   "source": [
    "import pandas as pd\n",
    "from sklearn.feature_extraction.text import TfidfVectorizer\n",
    "from sklearn.metrics.pairwise import cosine_similarity"
   ]
  },
  {
   "cell_type": "code",
   "execution_count": 7,
   "id": "1bf488be-b73d-449e-9eb2-cf16bcc9dc72",
   "metadata": {},
   "outputs": [
    {
     "data": {
      "text/html": [
       "<div>\n",
       "<style scoped>\n",
       "    .dataframe tbody tr th:only-of-type {\n",
       "        vertical-align: middle;\n",
       "    }\n",
       "\n",
       "    .dataframe tbody tr th {\n",
       "        vertical-align: top;\n",
       "    }\n",
       "\n",
       "    .dataframe thead th {\n",
       "        text-align: right;\n",
       "    }\n",
       "</style>\n",
       "<table border=\"1\" class=\"dataframe\">\n",
       "  <thead>\n",
       "    <tr style=\"text-align: right;\">\n",
       "      <th></th>\n",
       "      <th>Student ID</th>\n",
       "      <th>Interests</th>\n",
       "      <th>Career Goals</th>\n",
       "      <th>Matched Courses</th>\n",
       "    </tr>\n",
       "  </thead>\n",
       "  <tbody>\n",
       "    <tr>\n",
       "      <th>0</th>\n",
       "      <td>1</td>\n",
       "      <td>Software Development</td>\n",
       "      <td>Project Manager</td>\n",
       "      <td>Data Structures</td>\n",
       "    </tr>\n",
       "    <tr>\n",
       "      <th>1</th>\n",
       "      <td>2</td>\n",
       "      <td>Management</td>\n",
       "      <td>Network Administrator</td>\n",
       "      <td>Chemical Process Principles</td>\n",
       "    </tr>\n",
       "    <tr>\n",
       "      <th>2</th>\n",
       "      <td>3</td>\n",
       "      <td>Computing Basics</td>\n",
       "      <td>Business Analyst</td>\n",
       "      <td>Network Technologies</td>\n",
       "    </tr>\n",
       "    <tr>\n",
       "      <th>3</th>\n",
       "      <td>4</td>\n",
       "      <td>Networking</td>\n",
       "      <td>Mechanical Engineer</td>\n",
       "      <td>Database Management Systems</td>\n",
       "    </tr>\n",
       "    <tr>\n",
       "      <th>4</th>\n",
       "      <td>5</td>\n",
       "      <td>Software Development</td>\n",
       "      <td>Project Manager</td>\n",
       "      <td>Introduction to Business Technology</td>\n",
       "    </tr>\n",
       "    <tr>\n",
       "      <th>...</th>\n",
       "      <td>...</td>\n",
       "      <td>...</td>\n",
       "      <td>...</td>\n",
       "      <td>...</td>\n",
       "    </tr>\n",
       "    <tr>\n",
       "      <th>1995</th>\n",
       "      <td>1996</td>\n",
       "      <td>Business Technology</td>\n",
       "      <td>Mechanical Engineer</td>\n",
       "      <td>Introduction to Computing</td>\n",
       "    </tr>\n",
       "    <tr>\n",
       "      <th>1996</th>\n",
       "      <td>1997</td>\n",
       "      <td>Chemical Processes</td>\n",
       "      <td>Robotics Engineer</td>\n",
       "      <td>Introduction to Business Technology</td>\n",
       "    </tr>\n",
       "    <tr>\n",
       "      <th>1997</th>\n",
       "      <td>1998</td>\n",
       "      <td>Digital Systems</td>\n",
       "      <td>Robotics Engineer</td>\n",
       "      <td>Database Management Systems</td>\n",
       "    </tr>\n",
       "    <tr>\n",
       "      <th>1998</th>\n",
       "      <td>1999</td>\n",
       "      <td>Networking</td>\n",
       "      <td>System Architect</td>\n",
       "      <td>Data Structures</td>\n",
       "    </tr>\n",
       "    <tr>\n",
       "      <th>1999</th>\n",
       "      <td>2000</td>\n",
       "      <td>Data Analysis</td>\n",
       "      <td>Mechanical Engineer</td>\n",
       "      <td>Network Technologies</td>\n",
       "    </tr>\n",
       "  </tbody>\n",
       "</table>\n",
       "<p>2000 rows × 4 columns</p>\n",
       "</div>"
      ],
      "text/plain": [
       "      Student ID             Interests           Career Goals  \\\n",
       "0              1  Software Development        Project Manager   \n",
       "1              2            Management  Network Administrator   \n",
       "2              3      Computing Basics       Business Analyst   \n",
       "3              4            Networking    Mechanical Engineer   \n",
       "4              5  Software Development        Project Manager   \n",
       "...          ...                   ...                    ...   \n",
       "1995        1996   Business Technology    Mechanical Engineer   \n",
       "1996        1997    Chemical Processes      Robotics Engineer   \n",
       "1997        1998       Digital Systems      Robotics Engineer   \n",
       "1998        1999            Networking       System Architect   \n",
       "1999        2000         Data Analysis    Mechanical Engineer   \n",
       "\n",
       "                          Matched Courses  \n",
       "0                         Data Structures  \n",
       "1             Chemical Process Principles  \n",
       "2                    Network Technologies  \n",
       "3             Database Management Systems  \n",
       "4     Introduction to Business Technology  \n",
       "...                                   ...  \n",
       "1995            Introduction to Computing  \n",
       "1996  Introduction to Business Technology  \n",
       "1997          Database Management Systems  \n",
       "1998                      Data Structures  \n",
       "1999                 Network Technologies  \n",
       "\n",
       "[2000 rows x 4 columns]"
      ]
     },
     "execution_count": 7,
     "metadata": {},
     "output_type": "execute_result"
    }
   ],
   "source": [
    "courses_dataset_path = \"/Users/gowthami/Documents/pythonProjects/DigitalMentorUS/data/UMBC_COEIT_courses_dataset.csv\"\n",
    "courses_dataset = pd.read_csv(courses_dataset_path)\n",
    "courses_dataset"
   ]
  },
  {
   "cell_type": "code",
   "execution_count": 9,
   "id": "7e88d339-255c-4142-a7ac-514b2d4251d7",
   "metadata": {},
   "outputs": [
    {
     "name": "stdout",
     "output_type": "stream",
     "text": [
      "10\n",
      "10\n",
      "10\n"
     ]
    }
   ],
   "source": [
    "print(courses_dataset['Career Goals'].nunique())\n",
    "print(courses_dataset['Interests'].nunique())\n",
    "print(courses_dataset['Matched Courses'].nunique())"
   ]
  },
  {
   "cell_type": "code",
   "execution_count": 11,
   "id": "5e790a45-9ce4-49eb-bc8b-386d147aa1cb",
   "metadata": {},
   "outputs": [],
   "source": [
    "# Combine 'Interests' and 'Career Goals' into one string per student\n",
    "courses_dataset['profile_text'] = courses_dataset['Interests'] + \" \" + courses_dataset['Career Goals']\n",
    "\n",
    "# TF-IDF Vectorization\n",
    "vectorizer = TfidfVectorizer(stop_words='english')\n",
    "profile_vectors = vectorizer.fit_transform(courses_dataset['profile_text'])\n",
    "course_vectors = vectorizer.fit_transform(courses_dataset['Matched Courses'])"
   ]
  },
  {
   "cell_type": "code",
   "execution_count": 13,
   "id": "7f5aecc4-043a-4c59-9eb0-6df565cb3c31",
   "metadata": {},
   "outputs": [
    {
     "ename": "ValueError",
     "evalue": "Incompatible dimension for X and Y matrices: X.shape[1] == 24 while Y.shape[1] == 19",
     "output_type": "error",
     "traceback": [
      "\u001b[0;31m---------------------------------------------------------------------------\u001b[0m",
      "\u001b[0;31mValueError\u001b[0m                                Traceback (most recent call last)",
      "Cell \u001b[0;32mIn[13], line 2\u001b[0m\n\u001b[1;32m      1\u001b[0m \u001b[38;5;66;03m# Calculate cosine similarity between each student profile and course description\u001b[39;00m\n\u001b[0;32m----> 2\u001b[0m similarity_matrix \u001b[38;5;241m=\u001b[39m cosine_similarity(profile_vectors, course_vectors)\n\u001b[1;32m      4\u001b[0m \u001b[38;5;66;03m# Generate course recommendations based on highest similarity\u001b[39;00m\n\u001b[1;32m      5\u001b[0m top_course_indices \u001b[38;5;241m=\u001b[39m similarity_matrix\u001b[38;5;241m.\u001b[39margsort(axis\u001b[38;5;241m=\u001b[39m\u001b[38;5;241m1\u001b[39m)[:, \u001b[38;5;241m-\u001b[39m\u001b[38;5;241m1\u001b[39m:]  \u001b[38;5;66;03m# Top 3 courses for each student\u001b[39;00m\n",
      "File \u001b[0;32m/opt/anaconda3/lib/python3.12/site-packages/sklearn/utils/_param_validation.py:213\u001b[0m, in \u001b[0;36mvalidate_params.<locals>.decorator.<locals>.wrapper\u001b[0;34m(*args, **kwargs)\u001b[0m\n\u001b[1;32m    207\u001b[0m \u001b[38;5;28;01mtry\u001b[39;00m:\n\u001b[1;32m    208\u001b[0m     \u001b[38;5;28;01mwith\u001b[39;00m config_context(\n\u001b[1;32m    209\u001b[0m         skip_parameter_validation\u001b[38;5;241m=\u001b[39m(\n\u001b[1;32m    210\u001b[0m             prefer_skip_nested_validation \u001b[38;5;129;01mor\u001b[39;00m global_skip_validation\n\u001b[1;32m    211\u001b[0m         )\n\u001b[1;32m    212\u001b[0m     ):\n\u001b[0;32m--> 213\u001b[0m         \u001b[38;5;28;01mreturn\u001b[39;00m func(\u001b[38;5;241m*\u001b[39margs, \u001b[38;5;241m*\u001b[39m\u001b[38;5;241m*\u001b[39mkwargs)\n\u001b[1;32m    214\u001b[0m \u001b[38;5;28;01mexcept\u001b[39;00m InvalidParameterError \u001b[38;5;28;01mas\u001b[39;00m e:\n\u001b[1;32m    215\u001b[0m     \u001b[38;5;66;03m# When the function is just a wrapper around an estimator, we allow\u001b[39;00m\n\u001b[1;32m    216\u001b[0m     \u001b[38;5;66;03m# the function to delegate validation to the estimator, but we replace\u001b[39;00m\n\u001b[1;32m    217\u001b[0m     \u001b[38;5;66;03m# the name of the estimator by the name of the function in the error\u001b[39;00m\n\u001b[1;32m    218\u001b[0m     \u001b[38;5;66;03m# message to avoid confusion.\u001b[39;00m\n\u001b[1;32m    219\u001b[0m     msg \u001b[38;5;241m=\u001b[39m re\u001b[38;5;241m.\u001b[39msub(\n\u001b[1;32m    220\u001b[0m         \u001b[38;5;124mr\u001b[39m\u001b[38;5;124m\"\u001b[39m\u001b[38;5;124mparameter of \u001b[39m\u001b[38;5;124m\\\u001b[39m\u001b[38;5;124mw+ must be\u001b[39m\u001b[38;5;124m\"\u001b[39m,\n\u001b[1;32m    221\u001b[0m         \u001b[38;5;124mf\u001b[39m\u001b[38;5;124m\"\u001b[39m\u001b[38;5;124mparameter of \u001b[39m\u001b[38;5;132;01m{\u001b[39;00mfunc\u001b[38;5;241m.\u001b[39m\u001b[38;5;18m__qualname__\u001b[39m\u001b[38;5;132;01m}\u001b[39;00m\u001b[38;5;124m must be\u001b[39m\u001b[38;5;124m\"\u001b[39m,\n\u001b[1;32m    222\u001b[0m         \u001b[38;5;28mstr\u001b[39m(e),\n\u001b[1;32m    223\u001b[0m     )\n",
      "File \u001b[0;32m/opt/anaconda3/lib/python3.12/site-packages/sklearn/metrics/pairwise.py:1657\u001b[0m, in \u001b[0;36mcosine_similarity\u001b[0;34m(X, Y, dense_output)\u001b[0m\n\u001b[1;32m   1613\u001b[0m \u001b[38;5;250m\u001b[39m\u001b[38;5;124;03m\"\"\"Compute cosine similarity between samples in X and Y.\u001b[39;00m\n\u001b[1;32m   1614\u001b[0m \n\u001b[1;32m   1615\u001b[0m \u001b[38;5;124;03mCosine similarity, or the cosine kernel, computes similarity as the\u001b[39;00m\n\u001b[0;32m   (...)\u001b[0m\n\u001b[1;32m   1653\u001b[0m \u001b[38;5;124;03m       [0.57..., 0.81...]])\u001b[39;00m\n\u001b[1;32m   1654\u001b[0m \u001b[38;5;124;03m\"\"\"\u001b[39;00m\n\u001b[1;32m   1655\u001b[0m \u001b[38;5;66;03m# to avoid recursive import\u001b[39;00m\n\u001b[0;32m-> 1657\u001b[0m X, Y \u001b[38;5;241m=\u001b[39m check_pairwise_arrays(X, Y)\n\u001b[1;32m   1659\u001b[0m X_normalized \u001b[38;5;241m=\u001b[39m normalize(X, copy\u001b[38;5;241m=\u001b[39m\u001b[38;5;28;01mTrue\u001b[39;00m)\n\u001b[1;32m   1660\u001b[0m \u001b[38;5;28;01mif\u001b[39;00m X \u001b[38;5;129;01mis\u001b[39;00m Y:\n",
      "File \u001b[0;32m/opt/anaconda3/lib/python3.12/site-packages/sklearn/metrics/pairwise.py:189\u001b[0m, in \u001b[0;36mcheck_pairwise_arrays\u001b[0;34m(X, Y, precomputed, dtype, accept_sparse, force_all_finite, copy)\u001b[0m\n\u001b[1;32m    183\u001b[0m         \u001b[38;5;28;01mraise\u001b[39;00m \u001b[38;5;167;01mValueError\u001b[39;00m(\n\u001b[1;32m    184\u001b[0m             \u001b[38;5;124m\"\u001b[39m\u001b[38;5;124mPrecomputed metric requires shape \u001b[39m\u001b[38;5;124m\"\u001b[39m\n\u001b[1;32m    185\u001b[0m             \u001b[38;5;124m\"\u001b[39m\u001b[38;5;124m(n_queries, n_indexed). Got (\u001b[39m\u001b[38;5;132;01m%d\u001b[39;00m\u001b[38;5;124m, \u001b[39m\u001b[38;5;132;01m%d\u001b[39;00m\u001b[38;5;124m) \u001b[39m\u001b[38;5;124m\"\u001b[39m\n\u001b[1;32m    186\u001b[0m             \u001b[38;5;124m\"\u001b[39m\u001b[38;5;124mfor \u001b[39m\u001b[38;5;132;01m%d\u001b[39;00m\u001b[38;5;124m indexed.\u001b[39m\u001b[38;5;124m\"\u001b[39m \u001b[38;5;241m%\u001b[39m (X\u001b[38;5;241m.\u001b[39mshape[\u001b[38;5;241m0\u001b[39m], X\u001b[38;5;241m.\u001b[39mshape[\u001b[38;5;241m1\u001b[39m], Y\u001b[38;5;241m.\u001b[39mshape[\u001b[38;5;241m0\u001b[39m])\n\u001b[1;32m    187\u001b[0m         )\n\u001b[1;32m    188\u001b[0m \u001b[38;5;28;01melif\u001b[39;00m X\u001b[38;5;241m.\u001b[39mshape[\u001b[38;5;241m1\u001b[39m] \u001b[38;5;241m!=\u001b[39m Y\u001b[38;5;241m.\u001b[39mshape[\u001b[38;5;241m1\u001b[39m]:\n\u001b[0;32m--> 189\u001b[0m     \u001b[38;5;28;01mraise\u001b[39;00m \u001b[38;5;167;01mValueError\u001b[39;00m(\n\u001b[1;32m    190\u001b[0m         \u001b[38;5;124m\"\u001b[39m\u001b[38;5;124mIncompatible dimension for X and Y matrices: \u001b[39m\u001b[38;5;124m\"\u001b[39m\n\u001b[1;32m    191\u001b[0m         \u001b[38;5;124m\"\u001b[39m\u001b[38;5;124mX.shape[1] == \u001b[39m\u001b[38;5;132;01m%d\u001b[39;00m\u001b[38;5;124m while Y.shape[1] == \u001b[39m\u001b[38;5;132;01m%d\u001b[39;00m\u001b[38;5;124m\"\u001b[39m \u001b[38;5;241m%\u001b[39m (X\u001b[38;5;241m.\u001b[39mshape[\u001b[38;5;241m1\u001b[39m], Y\u001b[38;5;241m.\u001b[39mshape[\u001b[38;5;241m1\u001b[39m])\n\u001b[1;32m    192\u001b[0m     )\n\u001b[1;32m    194\u001b[0m \u001b[38;5;28;01mreturn\u001b[39;00m X, Y\n",
      "\u001b[0;31mValueError\u001b[0m: Incompatible dimension for X and Y matrices: X.shape[1] == 24 while Y.shape[1] == 19"
     ]
    }
   ],
   "source": [
    "# Calculate cosine similarity between each student profile and course description\n",
    "similarity_matrix = cosine_similarity(profile_vectors, course_vectors)\n",
    "\n",
    "# Generate course recommendations based on highest similarity\n",
    "top_course_indices = similarity_matrix.argsort(axis=1)[:, -1:]  # Top 3 courses for each student\n",
    "course_recommendations = [[courses_dataset['Matched Courses'].iloc[idx] for idx in reversed(indices)] for indices in top_course_indices]\n",
    "\n",
    "courses_dataset['Recommended Courses'] = course_recommendations\n",
    "courses_dataset[['Interests', 'Career Goals', 'Recommended Courses']]"
   ]
  },
  {
   "cell_type": "code",
   "execution_count": 17,
   "id": "8618beeb-5994-4202-a509-4244ffd36ecf",
   "metadata": {},
   "outputs": [],
   "source": [
    "def recommend_courses(interests, career_goals, vectorizer, course_df, course_vectors):\n",
    "    # Combine the student's interests and career goals into a single profile text\n",
    "    profile_text = interests + \" \" + career_goals\n",
    "    \n",
    "    # Vectorize the new student profile using the already fitted vectorizer\n",
    "    profile_vector = vectorizer.transform([profile_text])\n",
    "    \n",
    "    # Calculate cosine similarity between the student profile and all course descriptions\n",
    "    similarity_scores = cosine_similarity(profile_vector, course_vectors)\n",
    "    \n",
    "    # Get the indices of the top 3 courses\n",
    "    top_indices = similarity_scores.argsort()[0][-1:]\n",
    "    \n",
    "    # Retrieve the course names based on these indices\n",
    "    recommended_courses = [course_df['Matched Courses'].iloc[index] for index in reversed(top_indices)]\n",
    "    \n",
    "    return recommended_courses"
   ]
  },
  {
   "cell_type": "code",
   "execution_count": 23,
   "id": "a1904929-78fc-4386-bd0d-831bc421832d",
   "metadata": {},
   "outputs": [
    {
     "name": "stdout",
     "output_type": "stream",
     "text": [
      "Recommended Courses for the new student: ['Introduction to Computing']\n"
     ]
    }
   ],
   "source": [
    "# Example student data\n",
    "new_student_interests = \"Computing Basics\"\n",
    "new_student_career_goals = \"Software Engineer\"\n",
    "\n",
    "# Get course recommendations\n",
    "recommendations = recommend_courses(new_student_interests, new_student_career_goals, vectorizer, courses_dataset, course_vectors)\n",
    "\n",
    "print(\"Recommended Courses for the new student:\", recommendations)"
   ]
  },
  {
   "cell_type": "code",
   "execution_count": null,
   "id": "fd10c511-172f-40e9-8ae1-60d0388632bf",
   "metadata": {},
   "outputs": [],
   "source": []
  }
 ],
 "metadata": {
  "kernelspec": {
   "display_name": "Python 3 (ipykernel)",
   "language": "python",
   "name": "python3"
  },
  "language_info": {
   "codemirror_mode": {
    "name": "ipython",
    "version": 3
   },
   "file_extension": ".py",
   "mimetype": "text/x-python",
   "name": "python",
   "nbconvert_exporter": "python",
   "pygments_lexer": "ipython3",
   "version": "3.12.2"
  }
 },
 "nbformat": 4,
 "nbformat_minor": 5
}
